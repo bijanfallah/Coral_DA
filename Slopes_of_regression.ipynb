{
 "cells": [
  {
   "cell_type": "markdown",
   "metadata": {},
   "source": [
    "## Ploting the slopes of regression model from Javier's PSM following [Dee2016](http://onlinelibrary.wiley.com/doi/10.1002/2016MS000677/abstract)"
   ]
  },
  {
   "cell_type": "code",
   "execution_count": 1,
   "metadata": {
    "collapsed": true
   },
   "outputs": [],
   "source": [
    "# Reading the data \n",
    "import csv\n",
    "import numpy as np\n",
    "name=[]\n",
    "beta0 = []\n",
    "beta1= []\n",
    "betas = []\n",
    "with open('dydf_a4_POP2.TEMP.1.1890-1910-ann.txt', 'r') as infile:\n",
    "    csv_reader = csv.reader(infile, delimiter=' ')\n",
    "    for line in csv_reader:\n",
    "        beta0.append(line[8])\n",
    "        beta1.append(line[9])\n",
    "        name.append(line[0])\n",
    "infile.close()    "
   ]
  },
  {
   "cell_type": "code",
   "execution_count": 2,
   "metadata": {
    "collapsed": true
   },
   "outputs": [],
   "source": [
    "betas = beta1[1:]"
   ]
  },
  {
   "cell_type": "code",
   "execution_count": 3,
   "metadata": {
    "collapsed": true
   },
   "outputs": [],
   "source": [
    "betas = list(map(float, betas))"
   ]
  },
  {
   "cell_type": "code",
   "execution_count": 4,
   "metadata": {},
   "outputs": [
    {
     "data": {
      "image/png": "[encoded data removed]",
      "text/plain": [
       "<matplotlib.figure.Figure at 0x7f0590034350>"
      ]
     },
     "metadata": {},
     "output_type": "display_data"
    }
   ],
   "source": [
    "import matplotlib.pyplot as plt\n",
    "plt.figure()\n",
    "plt.boxplot(betas,0, 'gD')\n",
    "plt.text(1.1, np.median(betas),str(np.median(betas)))\n",
    "plt.show()"
   ]
  },
  {
   "cell_type": "markdown",
   "metadata": {
    "collapsed": true
   },
   "source": [
    "# Now it looks better :) thanks to Jens!!!"
   ]
  },
  {
   "cell_type": "code",
   "execution_count": null,
   "metadata": {
    "collapsed": true
   },
   "outputs": [],
   "source": []
  }
 ],
 "metadata": {
  "kernelspec": {
   "display_name": "Python 2",
   "language": "python",
   "name": "python2"
  },
  "language_info": {
   "codemirror_mode": {
    "name": "ipython",
    "version": 2
   },
   "file_extension": ".py",
   "mimetype": "text/x-python",
   "name": "python",
   "nbconvert_exporter": "python",
   "pygments_lexer": "ipython2",
   "version": "2.7.13"
  }
 },
 "nbformat": 4,
 "nbformat_minor": 2
}
